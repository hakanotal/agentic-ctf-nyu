{
 "cells": [
  {
   "cell_type": "code",
   "execution_count": 1,
   "metadata": {},
   "outputs": [
    {
     "data": {
      "text/plain": [
       "ChatResponse(model='qwen2.5:14b', created_at='2025-03-11T21:26:12.964206343Z', done=True, done_reason='stop', total_duration=2759754235, load_duration=2143174834, prompt_eval_count=24, prompt_eval_duration=134000000, eval_count=8, eval_duration=131000000, message=Message(role='assistant', content='The capital of France is Paris.', images=None, tool_calls=None))"
      ]
     },
     "execution_count": 1,
     "metadata": {},
     "output_type": "execute_result"
    }
   ],
   "source": [
    "from ollama import Client\n",
    "\n",
    "client = Client(host='http://169.226.53.98:11434')\n",
    "\n",
    "\n",
    "response = client.chat(\n",
    "    model=\"qwen2.5:14b\",\n",
    "    messages=[\n",
    "        {\n",
    "            \"role\": \"system\",\n",
    "            \"content\": \"you are an assistant\"\n",
    "        },\n",
    "        {\n",
    "            \"role\": \"user\",\n",
    "            \"content\": \"what is the capital of France?\"\n",
    "        }\n",
    "    ],\n",
    "    options={\n",
    "        \"temperature\": 0.7,\n",
    "        \"num_predict\": 1024\n",
    "    },\n",
    ")\n",
    "response"
   ]
  },
  {
   "cell_type": "code",
   "execution_count": null,
   "metadata": {},
   "outputs": [],
   "source": []
  }
 ],
 "metadata": {
  "kernelspec": {
   "display_name": "ctf",
   "language": "python",
   "name": "python3"
  },
  "language_info": {
   "codemirror_mode": {
    "name": "ipython",
    "version": 3
   },
   "file_extension": ".py",
   "mimetype": "text/x-python",
   "name": "python",
   "nbconvert_exporter": "python",
   "pygments_lexer": "ipython3",
   "version": "3.11.11"
  }
 },
 "nbformat": 4,
 "nbformat_minor": 2
}
